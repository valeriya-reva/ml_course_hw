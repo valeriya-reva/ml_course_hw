{
 "cells": [
  {
   "attachments": {},
   "cell_type": "markdown",
   "id": "8b808ebb-b501-456b-a7d3-31c542e145db",
   "metadata": {},
   "source": [
    "# Вступ\n",
    "## Про мене\n",
    "**Валерія**\n",
    "Я пишу код на _Phyton_\n"
   ]
  },
  {
   "cell_type": "code",
   "execution_count": 1,
   "id": "e9ae7f1e-6873-42e3-a77e-373b0b6087e7",
   "metadata": {},
   "outputs": [
    {
     "name": "stdout",
     "output_type": "stream",
     "text": [
      "Hello word!\n"
     ]
    }
   ],
   "source": [
    "print('Hello word!')"
   ]
  },
  {
   "cell_type": "code",
   "execution_count": 2,
   "id": "ab330c20-fd8e-4d57-a594-f13e399ccdc1",
   "metadata": {},
   "outputs": [
    {
     "data": {
      "text/plain": [
       "400"
      ]
     },
     "execution_count": 2,
     "metadata": {},
     "output_type": "execute_result"
    }
   ],
   "source": [
    "100 + 300"
   ]
  },
  {
   "cell_type": "markdown",
   "id": "77e6c530-82f1-413c-babe-229f347785d1",
   "metadata": {},
   "source": [
    "#### Розділ 1.1"
   ]
  },
  {
   "cell_type": "code",
   "execution_count": 5,
   "id": "8b343918-2b3e-4945-9aa5-b65c10a86d8e",
   "metadata": {},
   "outputs": [
    {
     "name": "stdout",
     "output_type": "stream",
     "text": [
      " Volume in drive D has no label.\n",
      " Volume Serial Number is 5A6D-100D\n",
      "\n",
      " Directory of D:\\ML_education\\ML_COURSE\n",
      "\n",
      "13/05/2025  12:13    <DIR>          .\n",
      "13/05/2025  10:52    <DIR>          ..\n",
      "13/05/2025  11:29    <DIR>          .ipynb_checkpoints\n",
      "13/05/2025  12:13             2,064 Less_0_code_style.ipynb\n",
      "               1 File(s)          2,064 bytes\n",
      "               3 Dir(s)  248,917,417,984 bytes free\n"
     ]
    }
   ],
   "source": [
    "!dir"
   ]
  },
  {
   "cell_type": "code",
   "execution_count": 7,
   "id": "f6fd6cd0-347f-44e1-a255-f6560f47da85",
   "metadata": {},
   "outputs": [
    {
     "name": "stdout",
     "output_type": "stream",
     "text": [
      "D:\\ML_education\\ML_COURSE\n"
     ]
    }
   ],
   "source": [
    "!echo %cd%"
   ]
  },
  {
   "cell_type": "code",
   "execution_count": 14,
   "id": "c4807cb2-1942-4367-80eb-a0a8ff29eb4c",
   "metadata": {},
   "outputs": [
    {
     "name": "stdout",
     "output_type": "stream",
     "text": [
      "0\n"
     ]
    },
    {
     "ename": "KeyboardInterrupt",
     "evalue": "",
     "output_type": "error",
     "traceback": [
      "\u001b[31m---------------------------------------------------------------------------\u001b[39m",
      "\u001b[31mKeyboardInterrupt\u001b[39m                         Traceback (most recent call last)",
      "\u001b[36mCell\u001b[39m\u001b[36m \u001b[39m\u001b[32mIn[14]\u001b[39m\u001b[32m, line 5\u001b[39m\n\u001b[32m      3\u001b[39m \u001b[38;5;28;01mfor\u001b[39;00m i \u001b[38;5;129;01min\u001b[39;00m \u001b[38;5;28mrange\u001b[39m(\u001b[32m10\u001b[39m):\n\u001b[32m      4\u001b[39m     \u001b[38;5;28mprint\u001b[39m(i)\n\u001b[32m----> \u001b[39m\u001b[32m5\u001b[39m     \u001b[43mtime\u001b[49m\u001b[43m.\u001b[49m\u001b[43msleep\u001b[49m\u001b[43m(\u001b[49m\u001b[32;43m30\u001b[39;49m\u001b[43m)\u001b[49m\n",
      "\u001b[31mKeyboardInterrupt\u001b[39m: "
     ]
    }
   ],
   "source": [
    "import time\n",
    "\n",
    "for i in range(10):\n",
    "    print(i)\n",
    "    time.sleep(30)"
   ]
  },
  {
   "cell_type": "code",
   "execution_count": 16,
   "id": "211fd7b3-45b4-485d-a490-ad8e2bbb35c5",
   "metadata": {},
   "outputs": [],
   "source": [
    "my_list = [1, 2, 3, 4]"
   ]
  },
  {
   "cell_type": "code",
   "execution_count": 17,
   "id": "4de1b566-5a4e-40cc-9601-6dc30b62267e",
   "metadata": {},
   "outputs": [
    {
     "data": {
      "text/plain": [
       "[1, 2, 3, 4]"
      ]
     },
     "execution_count": 17,
     "metadata": {},
     "output_type": "execute_result"
    }
   ],
   "source": [
    "my_list"
   ]
  },
  {
   "cell_type": "code",
   "execution_count": 18,
   "id": "64be9abf-a53f-4d03-9876-bb4793441592",
   "metadata": {},
   "outputs": [
    {
     "data": {
      "text/plain": [
       "2"
      ]
     },
     "execution_count": 18,
     "metadata": {},
     "output_type": "execute_result"
    }
   ],
   "source": [
    "1+1"
   ]
  },
  {
   "cell_type": "markdown",
   "id": "78756bcd-4660-4efe-a969-767741c5664b",
   "metadata": {},
   "source": [
    "В мене є список\n",
    "* один\n",
    "    - це підпункт\n",
    "* другий\n",
    "    - це також"
   ]
  },
  {
   "cell_type": "code",
   "execution_count": 20,
   "id": "88dea715-0f2d-46ca-9295-b37718df30ce",
   "metadata": {},
   "outputs": [
    {
     "data": {
      "text/plain": [
       "[100, 81, 64, 49, 36, 25, 16, 9, 4, 1, 0, 1, 4, 9, 16, 25, 36, 49, 64, 81, 100]"
      ]
     },
     "execution_count": 20,
     "metadata": {},
     "output_type": "execute_result"
    }
   ],
   "source": [
    "[x**2 for x in range (-10, 11)]"
   ]
  },
  {
   "cell_type": "code",
   "execution_count": 21,
   "id": "22f94f3f-35b5-417b-b019-a6b5ec8ebaf4",
   "metadata": {},
   "outputs": [],
   "source": [
    "s = 'Hello Word!'"
   ]
  },
  {
   "cell_type": "code",
   "execution_count": 22,
   "id": "a239c664-0c2e-46e6-b69b-424f3292e6de",
   "metadata": {},
   "outputs": [
    {
     "name": "stdout",
     "output_type": "stream",
     "text": [
      "Hello Word!\n"
     ]
    }
   ],
   "source": [
    "print(s)"
   ]
  },
  {
   "cell_type": "code",
   "execution_count": 24,
   "id": "738965c4-34e5-4834-b70f-e8ef426d83b8",
   "metadata": {},
   "outputs": [
    {
     "name": "stdout",
     "output_type": "stream",
     "text": [
      "4\n"
     ]
    },
    {
     "data": {
      "text/plain": [
       "'Hello Word!'"
      ]
     },
     "execution_count": 24,
     "metadata": {},
     "output_type": "execute_result"
    }
   ],
   "source": [
    "1+1\n",
    "print(2+2)\n",
    "3+3\n",
    "s"
   ]
  },
  {
   "cell_type": "code",
   "execution_count": 25,
   "id": "27f414e9-e113-44ce-83dd-1de3615923ac",
   "metadata": {},
   "outputs": [],
   "source": [
    "a = 'HELLO'"
   ]
  },
  {
   "cell_type": "code",
   "execution_count": 26,
   "id": "8f475d1a-0d8f-4600-8121-4851f677d5fc",
   "metadata": {},
   "outputs": [
    {
     "data": {
      "text/plain": [
       "'HELLO'"
      ]
     },
     "execution_count": 26,
     "metadata": {},
     "output_type": "execute_result"
    }
   ],
   "source": [
    "a"
   ]
  },
  {
   "cell_type": "code",
   "execution_count": 28,
   "id": "7486435f-04f9-42aa-b942-71e34e775ad2",
   "metadata": {},
   "outputs": [
    {
     "data": {
      "text/plain": [
       "'hello'"
      ]
     },
     "execution_count": 28,
     "metadata": {},
     "output_type": "execute_result"
    }
   ],
   "source": [
    "a.lower()"
   ]
  },
  {
   "cell_type": "code",
   "execution_count": 35,
   "id": "0b6a0e99-09c4-49e9-b6be-131b3c487ccf",
   "metadata": {},
   "outputs": [],
   "source": [
    "import matplotlib.pyplot as plt\n",
    "import numpy as np"
   ]
  },
  {
   "cell_type": "code",
   "execution_count": 36,
   "id": "01b42ad9-d149-4a7b-884a-4939dc9a147d",
   "metadata": {},
   "outputs": [
    {
     "data": {
      "text/plain": [
       "[<matplotlib.lines.Line2D at 0x186b247da90>]"
      ]
     },
     "execution_count": 36,
     "metadata": {},
     "output_type": "execute_result"
    },
    {
     "data": {
      "image/png": "[encoded data removed]",
      "text/plain": [
       "<Figure size 640x480 with 1 Axes>"
      ]
     },
     "metadata": {},
     "output_type": "display_data"
    }
   ],
   "source": [
    "plt.plot(np.sin(range(10)))"
   ]
  },
  {
   "cell_type": "code",
   "execution_count": null,
   "id": "7c35f5eb-152d-4fde-9db8-a926187b6893",
   "metadata": {},
   "outputs": [],
   "source": []
  }
 ],
 "metadata": {
  "kernelspec": {
   "display_name": "Python 3 (ipykernel)",
   "language": "python",
   "name": "python3"
  },
  "language_info": {
   "codemirror_mode": {
    "name": "ipython",
    "version": 3
   },
   "file_extension": ".py",
   "mimetype": "text/x-python",
   "name": "python",
   "nbconvert_exporter": "python",
   "pygments_lexer": "ipython3",
   "version": "3.13.3"
  }
 },
 "nbformat": 4,
 "nbformat_minor": 5
}
