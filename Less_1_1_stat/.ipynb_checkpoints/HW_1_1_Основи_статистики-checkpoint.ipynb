{
 "cells": [
  {
   "cell_type": "markdown",
   "metadata": {
    "id": "SDhaTqxcWhnP"
   },
   "source": [
    "В цьому домашньому завданні відпрацюємо з вами знання, отримані в модулі зі статистики.\n",
    "\n",
    "**Завдання 1.** Ми обговорили з Вами на лекції, що велика літера Сігма грецького алфавіту позначає в математиці суму. Знайдіть з використанням Python $\\Sigma x$, $\\Sigma x^2$, та $\\Sigma (x-1)^2$ для наступного набору даних:\n",
    "`1 3 4`\n",
    "Виведіть результат кожного обчислення на екран."
   ]
  },
  {
   "cell_type": "code",
   "execution_count": 1,
   "metadata": {
    "id": "B1mgx_IBT0e8",
    "jupyter": {
     "is_executing": true
    }
   },
   "outputs": [],
   "source": [
    "x = [1, 3, 4]"
   ]
  },
  {
   "cell_type": "code",
   "execution_count": 2,
   "metadata": {},
   "outputs": [
    {
     "name": "stdout",
     "output_type": "stream",
     "text": [
      "Sum of x:  [1, 3, 4]  =  8\n"
     ]
    }
   ],
   "source": [
    "x_sum = sum(x)\n",
    "print('Sum of x: ', x, ' = ', x_sum)"
   ]
  },
  {
   "cell_type": "code",
   "execution_count": 3,
   "metadata": {},
   "outputs": [
    {
     "name": "stdout",
     "output_type": "stream",
     "text": [
      "Sum of x squared:  [1, 9, 16]  =  26\n"
     ]
    }
   ],
   "source": [
    "x_squared = [i**2 for i in x]\n",
    "x_squared_sum = sum(x_squared)\n",
    "print('Sum of x squared: ', x_squared, ' = ', x_squared_sum)"
   ]
  },
  {
   "cell_type": "code",
   "execution_count": 5,
   "metadata": {},
   "outputs": [
    {
     "name": "stdout",
     "output_type": "stream",
     "text": [
      "Sum of (x - 1)**2: [1, 3, 4]  =  13\n"
     ]
    }
   ],
   "source": [
    "x_diff = [(i-1)**2 for i in x]\n",
    "x_sum_diff = sum(x_diff)\n",
    "print('Sum of (x - 1)**2:', x, ' = ', x_sum_diff)"
   ]
  },
  {
   "cell_type": "markdown",
   "metadata": {
    "id": "fa78aW5lhiia"
   },
   "source": [
    "**Завдання 2.** Ми зібрали дані про суму покупок в гривнях 20ма випадково обраними клієнтами в нашому магазині (всього клієнтів у нас більше) за минулий місяць. Вони представлені в змінній `sum_purchases`. Знайдіть **вибіркове середнє** для цих даних кожним з зазначених методів:   \n",
    "\n",
    "  2.1. без використання жодних бібліотек, користуючись тільки Python.  \n",
    "  2.2. використовуючи відповідний метод бібліотеки `numpy`.\n",
    "\n",
    "  Виведіть результат обчислень в кожному з випадків на екран та порівняйте результати. Вони співпадають?"
   ]
  },
  {
   "cell_type": "code",
   "execution_count": 24,
   "metadata": {
    "id": "_9kMt3rq6V5m"
   },
   "outputs": [],
   "source": [
    "sum_purchases = [ 316,  493,  367,  153,  224,  121,  322,  450,  196,  397,  281,\n",
    "  239,  484,  124,  223,  448,  432,  255, 4310, 3524]"
   ]
  },
  {
   "cell_type": "code",
   "execution_count": 25,
   "metadata": {},
   "outputs": [
    {
     "name": "stdout",
     "output_type": "stream",
     "text": [
      "mean by Python:  667.95\n"
     ]
    }
   ],
   "source": [
    "sum_purchases_mean_py = sum(sum_purchases) / len(sum_purchases)\n",
    "print('mean by Python: ', sum_purchases_mean_py)"
   ]
  },
  {
   "cell_type": "code",
   "execution_count": 26,
   "metadata": {
    "id": "wPmL919HT1c0"
   },
   "outputs": [
    {
     "name": "stdout",
     "output_type": "stream",
     "text": [
      "mean by numpy:  667.95\n"
     ]
    }
   ],
   "source": [
    "import numpy as np\n",
    "\n",
    "sum_purchases_mean_np = np.mean(sum_purchases)\n",
    "print('mean by numpy: ', sum_purchases_mean_np)"
   ]
  },
  {
   "cell_type": "markdown",
   "metadata": {},
   "source": [
    "**Висновок:**\n",
    "В завданні 2 результати співпадають"
   ]
  },
  {
   "cell_type": "markdown",
   "metadata": {
    "id": "FMdoxZd0kZdW"
   },
   "source": [
    "**Завдання 3.** Для того ж набору даних в змінній `sum_purchases` обчисліть **медіану** кожним з зазначених методів:  \n",
    "\n",
    "  3.1. без використання жодних бібліотек, користуючись тільки Python.  \n",
    "  3.2. використовуючи відповідний метод бібліотеки numpy.  \n",
    "\n",
    "Виведіть результат обчислень в кожному з випадків на екран. Порівняйте результати зі значенням вибіркового середнього. Напишіть коментар, для яких задач ви б використовували вибіркове середнє, а для яких - медіану?"
   ]
  },
  {
   "cell_type": "code",
   "execution_count": 27,
   "metadata": {
    "id": "x58BumvuT2nl"
   },
   "outputs": [
    {
     "name": "stdout",
     "output_type": "stream",
     "text": [
      "Median Py:  319.0\n"
     ]
    }
   ],
   "source": [
    "def median_py_calc(data):\n",
    "    data_len = len(data)\n",
    "    data_sorted = sorted(data)\n",
    "    if data_len % 2 == 0:\n",
    "        return (data_sorted[data_len//2-1] + data_sorted[data_len//2])/2\n",
    "    else:\n",
    "        return data_sorted[data_len // 2]\n",
    "    \n",
    "sum_purchases_median_py = median_py_calc(sum_purchases)\n",
    "print('Median Py: ', sum_purchases_median_py)"
   ]
  },
  {
   "cell_type": "code",
   "execution_count": 28,
   "metadata": {},
   "outputs": [
    {
     "name": "stdout",
     "output_type": "stream",
     "text": [
      "Median numpy:  319.0\n"
     ]
    }
   ],
   "source": [
    "sum_purchases_median_np = np.median(sum_purchases)\n",
    "print('Median numpy: ', sum_purchases_median_np)"
   ]
  },
  {
   "cell_type": "markdown",
   "metadata": {},
   "source": [
    "**Середнє** - для загальної оцінки тренду. Наприклад:\n",
    "- середня температура за місяць\n",
    "- середній бал студентів\n",
    "- середня кількість кроків на день\n",
    "\n",
    "**Медіана** - для більш реалістичного уявлення про типове значення. Коли є викиди або перекоси в датасеті\n",
    "- вартість квартир у місті\n",
    "- дохід населення\n",
    "- кількість пацієнтів у лікарнях щодня, якщо є різкі коливання\n"
   ]
  },
  {
   "cell_type": "markdown",
   "metadata": {
    "id": "o1Z7az2yNDQV"
   },
   "source": [
    "**Завдання 4**. Обчислість стандартне відхилення наведеної вибірки в змінній `sum_purchases` кожним з зазначених методів:  \n",
    "\n",
    "  4.1. без використання жодних бібліотек, користуючись тільки Python.  \n",
    "  4.2. використовуючи відповідний метод бібліотеки numpy.  \n",
    "\n",
    "Виведіть результат обчислень в кожному з випадків на екран."
   ]
  },
  {
   "cell_type": "code",
   "execution_count": 29,
   "metadata": {
    "id": "X4ixtmL2T642"
   },
   "outputs": [
    {
     "name": "stdout",
     "output_type": "stream",
     "text": [
      "Стандартне відхилення Python:  1124.5433447451132\n"
     ]
    }
   ],
   "source": [
    "sum_purchases_minus_mean = [(el - sum_purchases_mean_py)**2 for el in sum_purchases]\n",
    "std_sum_purchases_py = np.sqrt(sum(sum_purchases_minus_mean)/(len(sum_purchases)-1))\n",
    "print('Стандартне відхилення Python: ', std_sum_purchases_py)"
   ]
  },
  {
   "cell_type": "code",
   "execution_count": 30,
   "metadata": {},
   "outputs": [
    {
     "name": "stdout",
     "output_type": "stream",
     "text": [
      "Стандартне відхилення numpy:  1124.5433447451132\n"
     ]
    }
   ],
   "source": [
    "std_sum_purchases_numpy = np.std(sum_purchases, ddof=1)\n",
    "print('Стандартне відхилення numpy: ', std_sum_purchases_numpy)"
   ]
  },
  {
   "cell_type": "markdown",
   "metadata": {},
   "source": [
    "**Висновок:** Стандартне відхилення показує, наскільки суми покупок відхиляються від середнього значення. В данному випадку можна припустити що є вкиди або нерівномірні значення"
   ]
  },
  {
   "cell_type": "markdown",
   "metadata": {
    "id": "M1ntKTjXLVlH"
   },
   "source": [
    "**Завдання 5**. Ми провели дослідження віку студентів-першокурсників. Виявилось, що\n",
    "- 10 студентів мають вік 16 років\n",
    "- 25 студентів - 17 років\n",
    "- 20 студентів - 18 років\n",
    "- 2 студенти - 20 років\n",
    "\n",
    "Обчислість середнє значення для цієї вибірки будь-яким способом - на чистому Python або з numpy - та виведіть результат на екран."
   ]
  },
  {
   "cell_type": "code",
   "execution_count": 31,
   "metadata": {
    "id": "RdIU4M-7T8R4"
   },
   "outputs": [],
   "source": [
    "students_age_sample = (\n",
    "    [16] * 10 +\n",
    "    [17] * 25 +\n",
    "    [18] * 20 +\n",
    "    [20] * 2\n",
    ")"
   ]
  },
  {
   "cell_type": "code",
   "execution_count": 32,
   "metadata": {},
   "outputs": [
    {
     "name": "stdout",
     "output_type": "stream",
     "text": [
      "Cереднє значення для цієї вибірки: 17.280701754385966\n"
     ]
    }
   ],
   "source": [
    "students_age_sample_mean = np.mean(students_age_sample)\n",
    "print('Cереднє значення для цієї вибірки:', students_age_sample_mean)"
   ]
  },
  {
   "cell_type": "markdown",
   "metadata": {},
   "source": [
    "**Висновок:** Більшість студентів мають вік 17–18 років, тому середнє відповідає очікуванням."
   ]
  },
  {
   "cell_type": "markdown",
   "metadata": {
    "id": "Xx8MFkkVM53z"
   },
   "source": [
    "**Завдання 6**. Крім даних про суму покупок, ми зібрали ще дані про кількість відвідувань кожного з кожного покупця, які знаходяться в змінній `visits`. Обчисліть коефіцієнт кореляції Пірсона для суми покупок і кількості відвідувань кожним з зазначених методів:  \n",
    "\n",
    "  6.1. без використання жодних бібліотек, користуючись тільки Python.  \n",
    "  6.2. використовуючи відповідний метод бібліотеки numpy.  \n",
    "  \n",
    "Виведіть результат на екран. Проаналізуйте результат.\n",
    "\n",
    "Виведіть додатково графік розсіювання викликавши код нижче і зробіть заключення, чи варто щось змінити при підрахунку кореляції, аби коефіцієнт Пірсона показував коректну оцінку лінійної залежності?"
   ]
  },
  {
   "cell_type": "code",
   "execution_count": 33,
   "metadata": {
    "id": "4OIGBT7UOWhO"
   },
   "outputs": [],
   "source": [
    "visits = [ 6,  2, 10,  3,  9,  9,  2,  3,  6,  6, 10,  2,  5, 10,  3,  5,  4,\n",
    "        7,  4,  2]"
   ]
  },
  {
   "cell_type": "code",
   "execution_count": 34,
   "metadata": {},
   "outputs": [
    {
     "name": "stdout",
     "output_type": "stream",
     "text": [
      "Коефіцієнт кореляції Пірсона Python:  -0.30265844687666454\n"
     ]
    }
   ],
   "source": [
    "def k_pirson_calc(x, y):\n",
    "    mean_x = sum(x)/len(x)\n",
    "    mean_y = sum(y)/len(y)\n",
    "    \n",
    "    xy = [ (x[i] - mean_x)*(y[i] - mean_y) for i in range(len(x))]\n",
    "    cov_xy = sum(xy)/(len(x)-1)\n",
    "\n",
    "    x_minus_mean = [(el - mean_x)**2 for el in x]\n",
    "    std_x_sample = np.sqrt(sum(x_minus_mean)/(len(x)-1))\n",
    "\n",
    "    y_minus_mean = [(el - mean_y)**2 for el in y]\n",
    "    std_y_sample = np.sqrt(sum(y_minus_mean)/(len(y)-1))\n",
    "    \n",
    "    return cov_xy / (std_x_sample * std_y_sample)\n",
    "\n",
    "k = k_pirson_calc(sum_purchases, visits)\n",
    "\n",
    "print(\"Коефіцієнт кореляції Пірсона Python: \", k)"
   ]
  },
  {
   "cell_type": "code",
   "execution_count": 35,
   "metadata": {
    "id": "YLNF7VbeT97Q"
   },
   "outputs": [
    {
     "name": "stdout",
     "output_type": "stream",
     "text": [
      "Коефіцієнт кореляції Пірсона numpy:  -0.3026584468766646\n"
     ]
    }
   ],
   "source": [
    "correlation = np.corrcoef(sum_purchases, visits)\n",
    "print(\"Коефіцієнт кореляції Пірсона numpy: \", correlation[0, 1])"
   ]
  },
  {
   "cell_type": "code",
   "execution_count": 36,
   "metadata": {
    "colab": {
     "base_uri": "https://localhost:8080/",
     "height": 472
    },
    "id": "gaeoGA-5Prr1",
    "outputId": "0c910a7f-0e96-449a-881d-1efa453b3c8d"
   },
   "outputs": [
    {
     "data": {
      "text/plain": [
       "Text(0, 0.5, 'Number of Visits')"
      ]
     },
     "execution_count": 36,
     "metadata": {},
     "output_type": "execute_result"
    },
    {
     "data": {
      "image/png": "[encoded data removed]",
      "text/plain": [
       "<Figure size 640x480 with 1 Axes>"
      ]
     },
     "metadata": {},
     "output_type": "display_data"
    }
   ],
   "source": [
    "import matplotlib.pyplot as plt\n",
    "\n",
    "plt.scatter(sum_purchases, visits)\n",
    "plt.title('Scatter Plot of Purchases vs. Visits')\n",
    "plt.xlabel('Sum of Purchases')\n",
    "plt.ylabel('Number of Visits')"
   ]
  },
  {
   "cell_type": "markdown",
   "metadata": {},
   "source": [
    "**Висновки до завдання 6**\n",
    "- Коефіцієнт кореляції Пірсона -0.30 - слабка негативна лінійна залежність\n",
    "- На графіку можна побачити декілька викідів, що можуть впливати на результат аналізу даних"
   ]
  },
  {
   "cell_type": "markdown",
   "metadata": {
    "id": "4pEg0KzSQ6KA"
   },
   "source": [
    "**Завдання 7**. В попередньому завданні ми помітили, що викиди нам заважають отримати \"правдиве\" значення кореляції. Давайте вилучимо записи, які відповідають значенням з викидами в сумі покупок і обчисліть коеф. кореляції. Для цього поставте `threshold`, який дорінює середньому значенню + 2 стандартних вдіхилля суми покупок і всі значення, які більше за нього, будемо вважати викидами (є і інші правила для визначення викидів - з ним и познайомимось пізніше).\n",
    "\n",
    "Вилучіть значення з обох масивів і обчисліть коеф. кореляції Пірсона з допомогою `numpy` для кількості візитів і суми покупок без записів-викидів. Виведіть результат на екран, побудуйте діаграму розсіювання і проаналізуйте результат: що можемо сказати про залежність в даних?"
   ]
  },
  {
   "cell_type": "code",
   "execution_count": 37,
   "metadata": {
    "id": "Yj3Yfaf7UBbc"
   },
   "outputs": [
    {
     "name": "stdout",
     "output_type": "stream",
     "text": [
      "Коефіцієнт Пірсона без викидів: -0.3685212078127798\n"
     ]
    },
    {
     "data": {
      "image/png": "[encoded data removed]",
      "text/plain": [
       "<Figure size 640x480 with 1 Axes>"
      ]
     },
     "metadata": {},
     "output_type": "display_data"
    }
   ],
   "source": [
    "mean_purchase = np.mean(sum_purchases)\n",
    "std_purchase = np.std(sum_purchases, ddof=1)\n",
    "threshold = mean_purchase + 2 * std_purchase\n",
    "\n",
    "filtered_sum_purchases = []\n",
    "filtered_visits = []\n",
    "\n",
    "for purchase, visit in zip(sum_purchases, visits):\n",
    "    if purchase <= threshold:\n",
    "        filtered_sum_purchases.append(purchase)\n",
    "        filtered_visits.append(visit)\n",
    "\n",
    "filtered_corr = np.corrcoef(filtered_sum_purchases, filtered_visits)[0, 1]\n",
    "print(\"Коефіцієнт Пірсона без викидів:\", filtered_corr)\n",
    "\n",
    "plt.scatter(filtered_sum_purchases, filtered_visits)\n",
    "plt.title('Scatter Plot (без викидів)')\n",
    "plt.xlabel('Sum of Purchases')\n",
    "plt.ylabel('Number of Visits')\n",
    "plt.tight_layout()\n",
    "plt.show()"
   ]
  },
  {
   "cell_type": "markdown",
   "metadata": {},
   "source": [
    "**Висновок**\n",
    "\n",
    "- Після видалення викидів: Коефіцієнт кореляції Пірсона = -0.37 — зв’язок посилився. Все ще залишився слабким та негативним\n",
    "- Лінійна залежність між кількістю візитів і сумою покупок під питанням або дуже незначна\n",
    "- Можливо треба дослідити додаткові чинники, що можуть впливати на ці показники або застосувати нелінійні методи аналізу"
   ]
  },
  {
   "cell_type": "code",
   "execution_count": null,
   "metadata": {},
   "outputs": [],
   "source": []
  },
  {
   "cell_type": "code",
   "execution_count": null,
   "metadata": {},
   "outputs": [],
   "source": []
  }
 ],
 "metadata": {
  "colab": {
   "provenance": []
  },
  "kernelspec": {
   "display_name": "Python 3 (ipykernel)",
   "language": "python",
   "name": "python3"
  },
  "language_info": {
   "codemirror_mode": {
    "name": "ipython",
    "version": 3
   },
   "file_extension": ".py",
   "mimetype": "text/x-python",
   "name": "python",
   "nbconvert_exporter": "python",
   "pygments_lexer": "ipython3",
   "version": "3.13.3"
  }
 },
 "nbformat": 4,
 "nbformat_minor": 4
}
