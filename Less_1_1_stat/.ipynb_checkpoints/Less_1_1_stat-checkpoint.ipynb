{
 "cells": [
  {
   "cell_type": "code",
   "execution_count": 1,
   "id": "636e1fa1-1344-4e2c-9e7f-ef07136ee2ec",
   "metadata": {},
   "outputs": [],
   "source": [
    "import numpy as np"
   ]
  },
  {
   "cell_type": "code",
   "execution_count": 11,
   "id": "c1931539-8354-414a-befa-7bc251fda2ec",
   "metadata": {},
   "outputs": [],
   "source": [
    "x = [12, 33, 45, 2, 67, 80, 45, 20, 77, 30]\n",
    "y = [65, 87, 63, 22, 80, 45, 67, 83, 24, 28]"
   ]
  },
  {
   "cell_type": "code",
   "execution_count": 12,
   "id": "288e14b8-e7eb-42d2-b133-5ac48f6b91c5",
   "metadata": {},
   "outputs": [],
   "source": [
    "sorted_x = len(x)\n",
    "n_y = len(y)"
   ]
  },
  {
   "cell_type": "code",
   "execution_count": 13,
   "id": "0158c5ed-bab5-460e-9727-1c5acf4d0504",
   "metadata": {},
   "outputs": [
    {
     "data": {
      "text/plain": [
       "41.1"
      ]
     },
     "execution_count": 13,
     "metadata": {},
     "output_type": "execute_result"
    }
   ],
   "source": [
    "mean_x = sum(x) / n_x\n",
    "mean_x"
   ]
  },
  {
   "cell_type": "code",
   "execution_count": 14,
   "id": "4e892f4d-d202-4187-a96b-15ff8920106c",
   "metadata": {},
   "outputs": [
    {
     "data": {
      "text/plain": [
       "56.4"
      ]
     },
     "execution_count": 14,
     "metadata": {},
     "output_type": "execute_result"
    }
   ],
   "source": [
    "mean_y = sum(y) / n_y\n",
    "mean_y"
   ]
  },
  {
   "cell_type": "code",
   "execution_count": 15,
   "id": "367c0e54-3cdc-44a5-95f2-ce84fd1b53e7",
   "metadata": {},
   "outputs": [
    {
     "data": {
      "text/plain": [
       "(np.float64(41.1), np.float64(56.4))"
      ]
     },
     "execution_count": 15,
     "metadata": {},
     "output_type": "execute_result"
    }
   ],
   "source": [
    "np.mean(x), np.mean(y)"
   ]
  },
  {
   "cell_type": "code",
   "execution_count": 18,
   "id": "21ec3100-d075-4603-b768-a80b33380f50",
   "metadata": {},
   "outputs": [],
   "source": [
    "sorted_x = sorted(x)\n",
    "sorted_y = sorted(y)"
   ]
  },
  {
   "cell_type": "code",
   "execution_count": 21,
   "id": "66430791-3ae3-4bbd-ac72-72702e877379",
   "metadata": {},
   "outputs": [
    {
     "data": {
      "text/plain": [
       "39.0"
      ]
     },
     "execution_count": 21,
     "metadata": {},
     "output_type": "execute_result"
    }
   ],
   "source": [
    "(sorted_x[n_x // 2 - 1] + sorted_x[n_x // 2]) / 2 "
   ]
  },
  {
   "cell_type": "code",
   "execution_count": 22,
   "id": "04908904-629d-4785-8796-7a0f4f155383",
   "metadata": {},
   "outputs": [
    {
     "data": {
      "text/plain": [
       "64.0"
      ]
     },
     "execution_count": 22,
     "metadata": {},
     "output_type": "execute_result"
    }
   ],
   "source": [
    "(sorted_y[n_y // 2 - 1] + sorted_y[n_y // 2]) / 2 "
   ]
  },
  {
   "cell_type": "code",
   "execution_count": 23,
   "id": "3a01feeb-5221-450f-a241-81d7e3173383",
   "metadata": {},
   "outputs": [
    {
     "data": {
      "text/plain": [
       "(np.float64(39.0), np.float64(64.0))"
      ]
     },
     "execution_count": 23,
     "metadata": {},
     "output_type": "execute_result"
    }
   ],
   "source": [
    "np.median(x), np.median(y)"
   ]
  },
  {
   "cell_type": "code",
   "execution_count": 24,
   "id": "b9d881a9-ff38-4e10-bce5-fef4b8355c8b",
   "metadata": {},
   "outputs": [
    {
     "data": {
      "text/plain": [
       "[846.8100000000001,\n",
       " 65.61000000000003,\n",
       " 15.209999999999988,\n",
       " 1528.8100000000002,\n",
       " 670.81,\n",
       " 1513.2099999999998,\n",
       " 15.209999999999988,\n",
       " 445.21000000000004,\n",
       " 1288.81,\n",
       " 123.21000000000004]"
      ]
     },
     "execution_count": 24,
     "metadata": {},
     "output_type": "execute_result"
    }
   ],
   "source": [
    "x_minus_mean = [(el - mean_x)**2 for el in x]\n",
    "x_minus_mean"
   ]
  },
  {
   "cell_type": "code",
   "execution_count": 25,
   "id": "fd169bec-ddbf-4e91-8e1d-69aefd538164",
   "metadata": {},
   "outputs": [],
   "source": [
    "var_x_general = sum(x_minus_mean)/len(x)\n",
    "var_x_sample = sum(x_minus_mean)/(len(x)-1)"
   ]
  },
  {
   "cell_type": "code",
   "execution_count": 26,
   "id": "ebbe08b5-3c7b-4db3-b1e1-4278177cacfa",
   "metadata": {},
   "outputs": [
    {
     "data": {
      "text/plain": [
       "(651.29, 723.6555555555556)"
      ]
     },
     "execution_count": 26,
     "metadata": {},
     "output_type": "execute_result"
    }
   ],
   "source": [
    "var_x_general, var_x_sample"
   ]
  },
  {
   "cell_type": "code",
   "execution_count": 27,
   "id": "d5cc71fd-1643-4527-9e0a-4caa23ff5cbc",
   "metadata": {},
   "outputs": [
    {
     "data": {
      "text/plain": [
       "(np.float64(651.2900000000001), np.float64(723.6555555555556))"
      ]
     },
     "execution_count": 27,
     "metadata": {},
     "output_type": "execute_result"
    }
   ],
   "source": [
    "np.var(x), np.var(x, ddof=1)"
   ]
  },
  {
   "cell_type": "markdown",
   "id": "7f16ff73-b016-4b00-8a08-cdccb3999af6",
   "metadata": {},
   "source": [
    "# Стандартне відхилення"
   ]
  },
  {
   "cell_type": "code",
   "execution_count": 28,
   "id": "30d602f0-015b-431d-a829-5be5c585386d",
   "metadata": {},
   "outputs": [],
   "source": [
    "x_minus_mean = [(el - mean_x)**2 for el in x]\n",
    "std_x_general = np.sqrt(sum(x_minus_mean)/len(x))\n",
    "std_x_sample = np.sqrt(sum(x_minus_mean)/(len(x)-1))"
   ]
  },
  {
   "cell_type": "code",
   "execution_count": 29,
   "id": "380f902e-28e2-4cad-ae80-3489525ddd7c",
   "metadata": {},
   "outputs": [
    {
     "data": {
      "text/plain": [
       "(np.float64(25.520384009650012), np.float64(26.90084674421152))"
      ]
     },
     "execution_count": 29,
     "metadata": {},
     "output_type": "execute_result"
    }
   ],
   "source": [
    "std_x_general, std_x_sample"
   ]
  },
  {
   "cell_type": "code",
   "execution_count": 30,
   "id": "6abc5f13-ae88-489f-9857-7989d89dd17e",
   "metadata": {},
   "outputs": [
    {
     "data": {
      "text/plain": [
       "(np.float64(25.520384009650012), np.float64(26.90084674421152))"
      ]
     },
     "execution_count": 30,
     "metadata": {},
     "output_type": "execute_result"
    }
   ],
   "source": [
    "np.std(x), np.std(x, ddof=1)"
   ]
  },
  {
   "cell_type": "code",
   "execution_count": 31,
   "id": "04903ca1-4510-4935-935a-6f8acd1b8df5",
   "metadata": {},
   "outputs": [
    {
     "data": {
      "text/plain": [
       "np.float64(24.94527343339148)"
      ]
     },
     "execution_count": 31,
     "metadata": {},
     "output_type": "execute_result"
    }
   ],
   "source": [
    "y_minus_mean = [(el - mean_y)**2 for el in y]\n",
    "std_y_sample = np.sqrt(sum(y_minus_mean)/(len(y)-1))\n",
    "std_y_sample"
   ]
  },
  {
   "cell_type": "code",
   "execution_count": 33,
   "id": "de50111e-1b10-4d65-93c8-459d858b8964",
   "metadata": {},
   "outputs": [
    {
     "data": {
      "image/png": "[encoded data removed]",
      "text/plain": [
       "<Figure size 640x480 with 1 Axes>"
      ]
     },
     "metadata": {},
     "output_type": "display_data"
    }
   ],
   "source": [
    "import matplotlib.pyplot as plt\n",
    "plt.plot(x, y, 'o');"
   ]
  },
  {
   "cell_type": "code",
   "execution_count": 34,
   "id": "6aee5dc9-c728-478a-bf66-7e20c72326c4",
   "metadata": {},
   "outputs": [],
   "source": [
    "xy = [ (x[i] - mean_x)*(y[i] - mean_y) for i in range(len(x))]\n",
    "\n",
    "cov_xy = sum(xy)/(len(x)-1)"
   ]
  },
  {
   "cell_type": "code",
   "execution_count": 35,
   "id": "7e82d4b7-b2a2-4fdc-a7a0-85bbda3586aa",
   "metadata": {},
   "outputs": [
    {
     "data": {
      "text/plain": [
       "-36.37777777777777"
      ]
     },
     "execution_count": 35,
     "metadata": {},
     "output_type": "execute_result"
    }
   ],
   "source": [
    "cov_xy"
   ]
  },
  {
   "cell_type": "code",
   "execution_count": 36,
   "id": "37e095fd-cafd-4b5c-a0a4-78b84446fffd",
   "metadata": {},
   "outputs": [
    {
     "data": {
      "text/plain": [
       "np.float64(-0.054210316967585936)"
      ]
     },
     "execution_count": 36,
     "metadata": {},
     "output_type": "execute_result"
    }
   ],
   "source": [
    "cov_xy / (std_x_sample * std_y_sample)"
   ]
  },
  {
   "cell_type": "code",
   "execution_count": 37,
   "id": "6e33c880-6439-4db2-8a4f-3d186d4e58c9",
   "metadata": {},
   "outputs": [
    {
     "data": {
      "text/plain": [
       "array([[ 1.        , -0.05421032],\n",
       "       [-0.05421032,  1.        ]])"
      ]
     },
     "execution_count": 37,
     "metadata": {},
     "output_type": "execute_result"
    }
   ],
   "source": [
    "np.corrcoef(x,y)"
   ]
  },
  {
   "cell_type": "code",
   "execution_count": 38,
   "id": "7e1d4849-37f2-4da7-86b2-0354d520e244",
   "metadata": {},
   "outputs": [],
   "source": [
    "# Гаусівський розподіл"
   ]
  },
  {
   "cell_type": "code",
   "execution_count": 40,
   "id": "b49919f9-324d-43fb-b788-7b9ddf9c7ca9",
   "metadata": {},
   "outputs": [],
   "source": [
    "import numpy as np\n",
    "from scipy.stats import norm\n",
    "\n",
    "# Параметри розподілу\n",
    "mean = 5\n",
    "std_dev = 10\n",
    "\n",
    "# Генерація вибіркиа\n",
    "sample = norm.rvs(loc=mean, scale=std_dev, size=1000)"
   ]
  },
  {
   "cell_type": "code",
   "execution_count": 41,
   "id": "84549a3d-5049-4110-8b44-980723de5dcd",
   "metadata": {},
   "outputs": [
    {
     "data": {
      "image/png": "[encoded data removed]",
      "text/plain": [
       "<Figure size 640x480 with 1 Axes>"
      ]
     },
     "metadata": {},
     "output_type": "display_data"
    }
   ],
   "source": [
    "plt.hist(sample, bins=30);"
   ]
  },
  {
   "cell_type": "code",
   "execution_count": null,
   "id": "a13281e7-2efe-4d10-a448-0347770c938d",
   "metadata": {},
   "outputs": [],
   "source": []
  }
 ],
 "metadata": {
  "kernelspec": {
   "display_name": "Python 3 (ipykernel)",
   "language": "python",
   "name": "python3"
  },
  "language_info": {
   "codemirror_mode": {
    "name": "ipython",
    "version": 3
   },
   "file_extension": ".py",
   "mimetype": "text/x-python",
   "name": "python",
   "nbconvert_exporter": "python",
   "pygments_lexer": "ipython3",
   "version": "3.13.3"
  }
 },
 "nbformat": 4,
 "nbformat_minor": 5
}
