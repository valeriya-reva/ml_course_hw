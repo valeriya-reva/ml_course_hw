{
 "cells": [
  {
   "cell_type": "code",
   "execution_count": 1,
   "metadata": {},
   "outputs": [],
   "source": [
    "import numpy as np"
   ]
  },
  {
   "cell_type": "markdown",
   "metadata": {
    "id": "efug1V4CM0lT"
   },
   "source": [
    "### Завдання 1: Створення матриць та векторів\n",
    "1. Створіть `numpy` вектор `vector` розмірністю 10 з випадковими дійсними значеннями в діапазоні від 0 до 1. Можна скористатись двома альтернативними варіантами:\n",
    "  1. Генерація випадкових чисел з модулем [`random.uniform`](https://docs.python.org/3/library/random.html).\n",
    "  2. Створення вектора з допомогою метода `numpy` [np.random.rand](https://numpy.org/doc/stable/reference/random/generated/numpy.random.rand.html)\n",
    "\n",
    "2. Створіть матрицю `matrix` типу `numpy.array` розмірності 3x3 з наступними значеннями\n",
    "\n",
    "  $$\n",
    "  matrix = \\begin{bmatrix}\n",
    "  11 & 14 & 17 \\\\\n",
    "  20 & 23 & 26 \\\\\n",
    "  29 & 32 & 35\n",
    "  \\end{bmatrix}\n",
    "  $$\n",
    "\n",
    "  будь-яким відомими Вам способом.\n",
    "\n",
    "Виведіть на екран вектор і матрицю, а також їх розміри.\n"
   ]
  },
  {
   "cell_type": "code",
   "execution_count": 11,
   "metadata": {},
   "outputs": [
    {
     "name": "stdout",
     "output_type": "stream",
     "text": [
      "Завдання 1: Випадковий вектор (uniform, 10 елементів)\n",
      "[0.51598332 0.57013527 0.39699913 0.58299747 0.14561976 0.27433757\n",
      " 0.07490424 0.09407936 0.02201049 0.37475087]\n",
      "Shape: (10,)\n"
     ]
    }
   ],
   "source": [
    "import numpy as np\n",
    "\n",
    "vector = np.random.uniform(0, 1, 10)\n",
    "print(\"Завдання 1: Випадковий вектор (uniform, 10 елементів)\")\n",
    "print(vector1)\n",
    "print(\"Shape:\", vector1.shape)"
   ]
  },
  {
   "cell_type": "code",
   "execution_count": 12,
   "metadata": {},
   "outputs": [
    {
     "name": "stdout",
     "output_type": "stream",
     "text": [
      "Завдання 2: Випадковий вектор (rand, 10 елементів)\n",
      "[0.82880126 0.07302446 0.62789382 0.28288506 0.50940218 0.21836722\n",
      " 0.19189669 0.95065662 0.40518416 0.84281886]\n",
      "Shape: (10,)\n"
     ]
    }
   ],
   "source": [
    "vector2 = np.random.rand(10)\n",
    "print(\"Завдання 2: Випадковий вектор (rand, 10 елементів)\")\n",
    "print(vector2)\n",
    "print(\"Shape:\", vector2.shape)\n",
    "\n",
    "matrix = np.array([\n",
    "    [11, 14, 17],\n",
    "    [20, 23, 26],\n",
    "    [29, 32, 35]\n",
    "])"
   ]
  },
  {
   "cell_type": "code",
   "execution_count": 13,
   "metadata": {},
   "outputs": [
    {
     "name": "stdout",
     "output_type": "stream",
     "text": [
      "\n",
      " Завдання 3: Матриця 3x3 з фіксованими значеннями\n",
      "[[11 14 17]\n",
      " [20 23 26]\n",
      " [29 32 35]]\n",
      "Shape: (3, 3)\n"
     ]
    }
   ],
   "source": [
    "print(\"\\n Завдання 3: Матриця 3x3 з фіксованими значеннями\")\n",
    "print(matrix)\n",
    "print(\"Shape:\", matrix.shape)"
   ]
  },
  {
   "cell_type": "code",
   "execution_count": 14,
   "metadata": {},
   "outputs": [
    {
     "name": "stdout",
     "output_type": "stream",
     "text": [
      "\n",
      " Завдання 4: Одинична матриця 4x4\n",
      "[[1. 0. 0. 0.]\n",
      " [0. 1. 0. 0.]\n",
      " [0. 0. 1. 0.]\n",
      " [0. 0. 0. 1.]]\n",
      "Shape: (4, 4)\n"
     ]
    }
   ],
   "source": [
    "identity_matrix = np.eye(4)\n",
    "print(\"\\n Завдання 4: Одинична матриця 4x4\")\n",
    "print(identity_matrix)\n",
    "print(\"Shape:\", identity_matrix.shape)"
   ]
  },
  {
   "cell_type": "markdown",
   "metadata": {
    "id": "TSJ1P4OuOVe2"
   },
   "source": [
    "\n",
    "### Завдання 2: Операції над векторами та матрицями\n",
    "Виконайте кожну з зазначених операцій над зазначеними оʼєктами і виведіть результат на екран:\n",
    "1. Додайте до кожного значення вектора `vector` число 10 і округліть кожне значення до 2 знаків після коми без використання циклів.\n",
    "2. Помножте кожен елемент матриці з першого завдання на 2 без використання циклів.\n",
    "3. Створіть новий вектор, який містить квадрат кожного `vector` без циклів.\n"
   ]
  },
  {
   "cell_type": "code",
   "execution_count": 15,
   "metadata": {
    "id": "nAAojtyUVJXN"
   },
   "outputs": [
    {
     "name": "stdout",
     "output_type": "stream",
     "text": [
      "Вектор +10 та округлення до 2 знаків:\n",
      "[10.83 10.59 10.76 10.63 10.87 10.98 10.21 10.6  10.92 10.2 ]\n"
     ]
    }
   ],
   "source": [
    "vector_plus_10 = np.round(vector + 10, 2)\n",
    "print(\"Вектор +10 та округлення до 2 знаків:\")\n",
    "print(vector_plus_10)"
   ]
  },
  {
   "cell_type": "code",
   "execution_count": 18,
   "metadata": {},
   "outputs": [
    {
     "name": "stdout",
     "output_type": "stream",
     "text": [
      "Матриця, помножена на 2:\n",
      "[[22 28 34]\n",
      " [40 46 52]\n",
      " [58 64 70]]\n"
     ]
    }
   ],
   "source": [
    "matrix_times_2 = matrix * 2\n",
    "print(\"Матриця, помножена на 2:\")\n",
    "print(matrix_times_2)"
   ]
  },
  {
   "cell_type": "code",
   "execution_count": 19,
   "metadata": {},
   "outputs": [
    {
     "name": "stdout",
     "output_type": "stream",
     "text": [
      "Квадрати елементів вектора:\n",
      "[0.69136867 0.34314275 0.58287285 0.39139024 0.75971612 0.96368692\n",
      " 0.04573052 0.36261707 0.85449598 0.03958144]\n"
     ]
    }
   ],
   "source": [
    "vector_squared = vector ** 2\n",
    "print(\"Квадрати елементів вектора:\")\n",
    "print(vector_squared)"
   ]
  },
  {
   "cell_type": "markdown",
   "metadata": {
    "id": "u6RvWVfhPy-k"
   },
   "source": [
    "\n",
    "### Завдання 3: Множення матриць\n",
    "1. Задані дві матриці `A` і `B`розмірностями 3x2 та 2х3. Виконайте їхнє множення, щоб отримати матрицю 2x2. Виведіть результуючу матрицю `result_matrix` на екран.\n",
    "\n",
    "2. Заданий вектор `C` розмірністю 2х1. Подумайте спочатку, яку розмірність Ви отрмаєте, коли домножите `result_matrix` на вектор `C` і який результат буде. А потім виконайте множення і виведіть результат на екран.\n",
    "\n",
    "3. Задана матриця `D` розмірністю 2х2. Подумайте спочатку, яку розмірність Ви отрмаєте, коли домножите `result_matrix` на матрицю `D` і який результат буде. А потім виконайте множення і виведіть результат на екран."
   ]
  },
  {
   "cell_type": "code",
   "execution_count": 28,
   "metadata": {
    "id": "RwXfPzlbSJ44"
   },
   "outputs": [
    {
     "data": {
      "text/plain": [
       "array([[0.18, 0.53],\n",
       "       [0.75, 0.47],\n",
       "       [0.35, 0.21]])"
      ]
     },
     "metadata": {},
     "output_type": "display_data"
    },
    {
     "data": {
      "text/plain": [
       "array([[0.17, 0.58, 0.75],\n",
       "       [0.38, 0.11, 0.15]])"
      ]
     },
     "metadata": {},
     "output_type": "display_data"
    },
    {
     "data": {
      "text/plain": [
       "array([[0],\n",
       "       [1]])"
      ]
     },
     "metadata": {},
     "output_type": "display_data"
    },
    {
     "data": {
      "text/plain": [
       "array([[0, 1],\n",
       "       [1, 0]])"
      ]
     },
     "metadata": {},
     "output_type": "display_data"
    }
   ],
   "source": [
    "A = np.array(\n",
    "    [[0.18, 0.53],\n",
    "     [0.75, 0.47],\n",
    "     [0.35, 0.21]])\n",
    "\n",
    "B = np.array(\n",
    "    [[0.17, 0.58, 0.75],\n",
    "     [0.38, 0.11, 0.15]])\n",
    "\n",
    "C = np.array([[0], [1]])\n",
    "\n",
    "D = np.array([[0,1], [1,0]])\n",
    "\n",
    "display(A, B, C, D)"
   ]
  },
  {
   "cell_type": "code",
   "execution_count": 24,
   "metadata": {
    "id": "z7-boTbhVKkj"
   },
   "outputs": [
    {
     "name": "stdout",
     "output_type": "stream",
     "text": [
      "Result matrix (B × A):\n",
      "[[0.7281 0.5202]\n",
      " [0.2034 0.2846]]\n",
      "Shape: (2, 2)\n"
     ]
    }
   ],
   "source": [
    "result_matrix = B @ A\n",
    "print(\"Result matrix (B × A):\")\n",
    "print(result_matrix)\n",
    "print(\"Shape:\", result_matrix.shape)"
   ]
  },
  {
   "cell_type": "code",
   "execution_count": 26,
   "metadata": {},
   "outputs": [
    {
     "name": "stdout",
     "output_type": "stream",
     "text": [
      "result_matrix × C:\n",
      "[[0.5202]\n",
      " [0.2846]]\n",
      "Shape: (2, 1)\n"
     ]
    }
   ],
   "source": [
    "result_vector = result_matrix @ C\n",
    "print(\"result_matrix × C:\")\n",
    "print(result_vector)\n",
    "print(\"Shape:\", result_vector.shape)"
   ]
  },
  {
   "cell_type": "code",
   "execution_count": 27,
   "metadata": {},
   "outputs": [
    {
     "name": "stdout",
     "output_type": "stream",
     "text": [
      "result_matrix × D:\n",
      "[[0.5202 0.7281]\n",
      " [0.2846 0.2034]]\n",
      "Shape: (2, 2)\n"
     ]
    }
   ],
   "source": [
    "result_matrix_D = result_matrix @ D\n",
    "print(\"result_matrix × D:\")\n",
    "print(result_matrix_D)\n",
    "print(\"Shape:\", result_matrix_D.shape)"
   ]
  },
  {
   "cell_type": "markdown",
   "metadata": {
    "id": "wohp0_cxSGpl"
   },
   "source": [
    "\n",
    "### Завдання 4: Транспонування матриць\n",
    "1. Транспонуйте `result_matrix`.\n",
    "2. Зробіть транспонування вектора `vector` і виведіть форму нової структури. Чи бачите ви зміну?\n",
    "3. Використайте операцію `numpy.expand_dims` над вектором `vector` з аргументом axis=1. Запишіть отриманий результат в змінну `column_vector` і виведіть на екран. Порівняйте з `vector`.\n",
    "4. Зробіть транспонування `column_vector`, виведіть результат на екран разом з розмірностями отриманої структури.\n",
    "\n",
    "\n"
   ]
  },
  {
   "cell_type": "code",
   "execution_count": 31,
   "metadata": {
    "id": "4hFcq1baVLii"
   },
   "outputs": [
    {
     "name": "stdout",
     "output_type": "stream",
     "text": [
      "[[0.7281 0.2034]\n",
      " [0.5202 0.2846]]\n"
     ]
    }
   ],
   "source": [
    "result_matrix_transposed = result_matrix.T\n",
    "\n",
    "print(result_matrix_transposed)"
   ]
  },
  {
   "cell_type": "code",
   "execution_count": 35,
   "metadata": {},
   "outputs": [
    {
     "name": "stdout",
     "output_type": "stream",
     "text": [
      "Форма vector: (10,)\n",
      "Форма transposed_vector: (10,)\n"
     ]
    }
   ],
   "source": [
    "transposed_vector = vector.T\n",
    "\n",
    "print(\"Форма vector:\", vector.shape)\n",
    "print(\"Форма transposed_vector:\", transposed_vector.shape)"
   ]
  },
  {
   "cell_type": "markdown",
   "metadata": {},
   "source": [
    "Нічого не змінюється, тому що vector не має окремих осей для \"рядків\" і \"стовпців\""
   ]
  },
  {
   "cell_type": "code",
   "execution_count": 37,
   "metadata": {},
   "outputs": [
    {
     "name": "stdout",
     "output_type": "stream",
     "text": [
      "Вихідний вектор (vector):\n",
      "[0.83148582 0.58578387 0.7634611  0.62561189 0.87161696 0.98167557\n",
      " 0.21384696 0.60217694 0.92438952 0.19895085]\n",
      "Форма: (10,)\n",
      "\n",
      "Стовпчиковий вектор (column_vector) після expand_dims:\n",
      "[[0.83148582]\n",
      " [0.58578387]\n",
      " [0.7634611 ]\n",
      " [0.62561189]\n",
      " [0.87161696]\n",
      " [0.98167557]\n",
      " [0.21384696]\n",
      " [0.60217694]\n",
      " [0.92438952]\n",
      " [0.19895085]]\n",
      "Форма: (10, 1)\n"
     ]
    }
   ],
   "source": [
    "column_vector = np.expand_dims(vector, axis=1)\n",
    "\n",
    "print(\"Вихідний вектор (vector):\")\n",
    "print(vector)\n",
    "print(\"Форма:\", vector.shape)\n",
    "\n",
    "print(\"\\nСтовпчиковий вектор (column_vector) після expand_dims:\")\n",
    "print(column_vector)\n",
    "print(\"Форма:\", column_vector.shape)"
   ]
  },
  {
   "cell_type": "code",
   "execution_count": 38,
   "metadata": {},
   "outputs": [
    {
     "name": "stdout",
     "output_type": "stream",
     "text": [
      "Стовпчиковий вектор (column_vector):\n",
      "[[0.83148582]\n",
      " [0.58578387]\n",
      " [0.7634611 ]\n",
      " [0.62561189]\n",
      " [0.87161696]\n",
      " [0.98167557]\n",
      " [0.21384696]\n",
      " [0.60217694]\n",
      " [0.92438952]\n",
      " [0.19895085]]\n",
      "Форма: (10, 1)\n",
      "\n",
      "Транспонований вектор (transposed_column_vector):\n",
      "[[0.83148582 0.58578387 0.7634611  0.62561189 0.87161696 0.98167557\n",
      "  0.21384696 0.60217694 0.92438952 0.19895085]]\n",
      "Форма: (1, 10)\n"
     ]
    }
   ],
   "source": [
    "transposed_column_vector = column_vector.T\n",
    "\n",
    "print(\"Стовпчиковий вектор (column_vector):\")\n",
    "print(column_vector)\n",
    "print(\"Форма:\", column_vector.shape)\n",
    "\n",
    "print(\"\\nТранспонований вектор (transposed_column_vector):\")\n",
    "print(transposed_column_vector)\n",
    "print(\"Форма:\", transposed_column_vector.shape)"
   ]
  }
 ],
 "metadata": {
  "colab": {
   "provenance": []
  },
  "kernelspec": {
   "display_name": "Python 3 (ipykernel)",
   "language": "python",
   "name": "python3"
  },
  "language_info": {
   "codemirror_mode": {
    "name": "ipython",
    "version": 3
   },
   "file_extension": ".py",
   "mimetype": "text/x-python",
   "name": "python",
   "nbconvert_exporter": "python",
   "pygments_lexer": "ipython3",
   "version": "3.13.3"
  }
 },
 "nbformat": 4,
 "nbformat_minor": 4
}
